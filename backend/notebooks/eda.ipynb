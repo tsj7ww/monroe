{
 "cells": [
  {
   "cell_type": "code",
   "execution_count": 1,
   "id": "67dc53ac-80a1-4390-8821-aeccaa81050e",
   "metadata": {},
   "outputs": [],
   "source": [
    "%load_ext autoreload\n",
    "%autoreload 2"
   ]
  },
  {
   "cell_type": "code",
   "execution_count": 2,
   "id": "b4004a88-841f-44c3-8e5c-9a93195e6d3d",
   "metadata": {},
   "outputs": [],
   "source": [
    "import os\n",
    "from pathlib import Path\n",
    "import yaml\n",
    "\n",
    "import numpy as np\n",
    "import pandas as pd\n",
    "import dask.dataframe as dd"
   ]
  },
  {
   "cell_type": "code",
   "execution_count": 3,
   "id": "760c960d-98a4-4465-a93e-ea6706800d72",
   "metadata": {},
   "outputs": [],
   "source": [
    "import sys\n",
    "sys.path.append('../src')\n",
    "import monroe"
   ]
  },
  {
   "cell_type": "code",
   "execution_count": 7,
   "id": "5c0aecc6-5f76-46c0-8d9a-2dc8835761d4",
   "metadata": {},
   "outputs": [],
   "source": [
    "import monroe.utils as utils\n",
    "from monroe.config import Config\n",
    "from monroe.data import Data # depends on config and data\n",
    "from monroe.preprocess import Preprocess # depends on data\n",
    "# from monroe.selection import Selector # depends on data, evaluate, config\n",
    "# from monroe.train import Trainer # depends on data, selector\n",
    "# from monroe.evalute import Evaluator # depends on config"
   ]
  },
  {
   "cell_type": "code",
   "execution_count": 8,
   "id": "da23c85d-380e-4287-a84e-404aa898f65c",
   "metadata": {},
   "outputs": [
    {
     "name": "stderr",
     "output_type": "stream",
     "text": [
      "2025-06-01 19:22:59,999 - AutoMLConfig - INFO - Created run directory: ./output/run_20250601_192259\n"
     ]
    }
   ],
   "source": [
    "data_fpath = Path.cwd().parent / 'data' / 'raw' / 'creditcard.csv'\n",
    "target_col = 'Class'\n",
    "config = Config(data_fpath=data_fpath,\n",
    "                target_column=target_col)"
   ]
  },
  {
   "cell_type": "code",
   "execution_count": null,
   "id": "976a342a-4ee6-4044-9072-ac5e7e29156c",
   "metadata": {},
   "outputs": [],
   "source": []
  },
  {
   "cell_type": "code",
   "execution_count": 9,
   "id": "e6c187df-7f14-4dfa-a6ad-358c7c482650",
   "metadata": {},
   "outputs": [],
   "source": [
    "data = Data(config.data_fpath,\n",
    "            config.target_column,\n",
    "            config)"
   ]
  },
  {
   "cell_type": "code",
   "execution_count": 10,
   "id": "140ebe81-a071-447b-8d51-22953bdd5d2e",
   "metadata": {},
   "outputs": [],
   "source": [
    "data.load_data()"
   ]
  },
  {
   "cell_type": "code",
   "execution_count": 11,
   "id": "79794e9d-cb32-40fb-98de-09048c8a4517",
   "metadata": {},
   "outputs": [],
   "source": [
    "data.parse_data()"
   ]
  },
  {
   "cell_type": "code",
   "execution_count": 21,
   "id": "26f8360e-5615-4a94-b137-483debb131c4",
   "metadata": {},
   "outputs": [],
   "source": [
    "data.get_column_info()"
   ]
  },
  {
   "cell_type": "code",
   "execution_count": 13,
   "id": "a88c7139-3806-42b5-9ea0-d36b70def060",
   "metadata": {},
   "outputs": [],
   "source": [
    "data.regression_or_classification()"
   ]
  },
  {
   "cell_type": "code",
   "execution_count": null,
   "id": "0b50c2b6-633c-4f01-9e50-69ccbc0bc681",
   "metadata": {},
   "outputs": [],
   "source": []
  },
  {
   "cell_type": "code",
   "execution_count": 17,
   "id": "095872e9-1051-450b-bfe8-c909e8d0c5ae",
   "metadata": {},
   "outputs": [],
   "source": [
    "preproc = Preprocess(data, config)"
   ]
  },
  {
   "cell_type": "code",
   "execution_count": 27,
   "id": "ae7617c2-412c-48f2-b346-a619388ccf50",
   "metadata": {},
   "outputs": [],
   "source": [
    "preproc.categorical_to_numeric()"
   ]
  },
  {
   "cell_type": "code",
   "execution_count": 28,
   "id": "9c4e5783-fff4-4376-882a-6ea845e5d1e1",
   "metadata": {},
   "outputs": [],
   "source": [
    "preproc.handle_outliers()"
   ]
  },
  {
   "cell_type": "code",
   "execution_count": 29,
   "id": "9dbd3ccd-a3cd-4d0e-a5e6-5ccc91a66fe4",
   "metadata": {},
   "outputs": [],
   "source": [
    "preproc.handle_missing_values(method=\"auto\")"
   ]
  },
  {
   "cell_type": "code",
   "execution_count": null,
   "id": "1a09d476-42f6-4b03-9eef-8ac2d430f453",
   "metadata": {},
   "outputs": [],
   "source": []
  },
  {
   "cell_type": "code",
   "execution_count": 30,
   "id": "11a0fb48-e927-4017-ac54-c5e21ea42f05",
   "metadata": {},
   "outputs": [],
   "source": [
    "data.split_data() # run after preprocessing"
   ]
  },
  {
   "cell_type": "code",
   "execution_count": null,
   "id": "ac21d041-13ba-42ce-8493-1dc823cbc319",
   "metadata": {},
   "outputs": [],
   "source": []
  },
  {
   "cell_type": "code",
   "execution_count": null,
   "id": "da26e82d-69c7-49c5-bf3b-de3d49e170d1",
   "metadata": {},
   "outputs": [],
   "source": []
  },
  {
   "cell_type": "code",
   "execution_count": null,
   "id": "af8f7511-8f4d-4b88-aa4e-ab41cc904aee",
   "metadata": {},
   "outputs": [],
   "source": []
  },
  {
   "cell_type": "code",
   "execution_count": null,
   "id": "648900ab-763b-4584-8053-2f71ec563c5b",
   "metadata": {},
   "outputs": [],
   "source": []
  },
  {
   "cell_type": "code",
   "execution_count": null,
   "id": "904e3b49-22ed-4b80-90cc-554a2b9cfa63",
   "metadata": {},
   "outputs": [],
   "source": []
  },
  {
   "cell_type": "code",
   "execution_count": 14,
   "id": "115f0106-f2f8-430e-be59-2557a14aecc6",
   "metadata": {},
   "outputs": [],
   "source": [
    "import dask.dataframe as dd"
   ]
  },
  {
   "cell_type": "code",
   "execution_count": 23,
   "id": "aa65b4ae-76c2-4629-a98b-8648290878cf",
   "metadata": {},
   "outputs": [],
   "source": [
    "df = dd.read_csv(data_fpath)#, assume_missing=True)"
   ]
  },
  {
   "cell_type": "code",
   "execution_count": 22,
   "id": "9e1e871a-75f4-4b4c-a389-ba5e1bce3c34",
   "metadata": {},
   "outputs": [
    {
     "data": {
      "text/plain": [
       "np.False_"
      ]
     },
     "execution_count": 22,
     "metadata": {},
     "output_type": "execute_result"
    }
   ],
   "source": [
    "df.Time.isna().max().compute()"
   ]
  },
  {
   "cell_type": "code",
   "execution_count": null,
   "id": "149bf41f-6bcb-46c5-8919-791bbae3d316",
   "metadata": {},
   "outputs": [],
   "source": []
  },
  {
   "cell_type": "code",
   "execution_count": null,
   "id": "0039d1d1-f4c3-4dce-b0df-38baaf130a60",
   "metadata": {},
   "outputs": [],
   "source": []
  },
  {
   "cell_type": "code",
   "execution_count": null,
   "id": "b6d93c5e-a831-4e8d-960b-11c5729b699e",
   "metadata": {},
   "outputs": [],
   "source": []
  },
  {
   "cell_type": "code",
   "execution_count": null,
   "id": "53d46a8d-10f2-443a-9cce-7e46e7fab97b",
   "metadata": {},
   "outputs": [],
   "source": []
  },
  {
   "cell_type": "code",
   "execution_count": 7,
   "id": "e288612f-504a-4fae-97a0-73e6aeca9919",
   "metadata": {},
   "outputs": [
    {
     "name": "stderr",
     "output_type": "stream",
     "text": [
      "2025-04-19 20:47:28,993 - NeuralNetworkModel - INFO - Loading data sample from /workspace/data/raw/creditcard.csv\n",
      "2025-04-19 20:47:29,008 - NeuralNetworkModel - INFO - Auto-detected target column: Amount\n",
      "2025-04-19 20:47:29,009 - NeuralNetworkModel - INFO - Training neural network model with target: Amount\n",
      "2025-04-19 20:47:29,016 - NeuralNetworkModel - INFO - Dask dashboard at: http://dask-scheduler:8787/status\n",
      "2025-04-19 20:47:29,016 - NeuralNetworkModel - INFO - Loading data from /workspace/data/raw/creditcard.csv\n",
      "2025-04-19 20:47:29,023 - NeuralNetworkModel - INFO - Converting Dask DataFrame to numpy arrays\n",
      "2025-04-19 20:47:30,469 - NeuralNetworkModel - INFO - Creating neural network model\n",
      "2025-04-19 20:47:30,470 - NeuralNetworkModel - INFO - Neural network will use device: cpu\n",
      "2025-04-19 20:47:30,471 - NeuralNetworkModel - INFO - Fitting neural network model\n",
      "2025-04-19 20:47:30,477 - NeuralNetworkModel - INFO - Problem type: Regression\n",
      "2025-04-19 20:47:30,478 - NeuralNetworkModel - INFO - Input dimension: 30, Output dimension: 1\n",
      "2025-04-19 20:47:30,478 - NeuralNetworkModel - INFO - Running parallel hyperparameter optimization with Dask\n",
      "2025-04-19 20:47:30,498 - NeuralNetworkModel - INFO - Dask dashboard at: http://dask-scheduler:8787/status\n",
      "[I 2025-04-19 20:47:30,881] A new study created in RDB with name: neural_network_parallel_1745095650\n",
      "/opt/venv/monroe/lib/python3.11/site-packages/distributed/client.py:3383: UserWarning: Sending large graph of size 16.84 MiB.\n",
      "This may cause some slowdown.\n",
      "Consider loading the data with Dask directly\n",
      " or using futures or delayed objects to embed the data into the graph without repetition.\n",
      "See also https://docs.dask.org/en/stable/best-practices.html#load-data-with-dask for more information.\n",
      "  warnings.warn(\n",
      "/opt/venv/monroe/lib/python3.11/site-packages/distributed/client.py:3383: UserWarning: Sending large graph of size 16.85 MiB.\n",
      "This may cause some slowdown.\n",
      "Consider loading the data with Dask directly\n",
      " or using futures or delayed objects to embed the data into the graph without repetition.\n",
      "See also https://docs.dask.org/en/stable/best-practices.html#load-data-with-dask for more information.\n",
      "  warnings.warn(\n",
      "2025-04-19 20:47:31,087 - NeuralNetworkModel - ERROR - Error in pipeline: Record does not exist.\n"
     ]
    },
    {
     "ename": "ValueError",
     "evalue": "Record does not exist.",
     "output_type": "error",
     "traceback": [
      "\u001b[31m---------------------------------------------------------------------------\u001b[39m",
      "\u001b[31mValueError\u001b[39m                                Traceback (most recent call last)",
      "\u001b[36mCell\u001b[39m\u001b[36m \u001b[39m\u001b[32mIn[7]\u001b[39m\u001b[32m, line 5\u001b[39m\n\u001b[32m      2\u001b[39m \u001b[38;5;28;01mfrom\u001b[39;00m\u001b[38;5;250m \u001b[39m\u001b[34;01mmonroe\u001b[39;00m\u001b[34;01m.\u001b[39;00m\u001b[34;01mnn\u001b[39;00m\u001b[38;5;250m \u001b[39m\u001b[38;5;28;01mimport\u001b[39;00m run_neural_network_pipeline\n\u001b[32m      4\u001b[39m \u001b[38;5;66;03m# Run complete pipeline with auto-detection\u001b[39;00m\n\u001b[32m----> \u001b[39m\u001b[32m5\u001b[39m results = \u001b[43mrun_neural_network_pipeline\u001b[49m\u001b[43m(\u001b[49m\n\u001b[32m      6\u001b[39m \u001b[43m    \u001b[49m\u001b[43mfile_path\u001b[49m\u001b[43m=\u001b[49m\u001b[38;5;28;43mstr\u001b[39;49m\u001b[43m(\u001b[49m\u001b[43mfpath\u001b[49m\u001b[43m)\u001b[49m\u001b[43m,\u001b[49m\n\u001b[32m      7\u001b[39m \u001b[43m    \u001b[49m\u001b[43moutput_dir\u001b[49m\u001b[43m=\u001b[49m\u001b[38;5;28;43mstr\u001b[39;49m\u001b[43m(\u001b[49m\u001b[43mPath\u001b[49m\u001b[43m.\u001b[49m\u001b[43mcwd\u001b[49m\u001b[43m(\u001b[49m\u001b[43m)\u001b[49m\u001b[43m.\u001b[49m\u001b[43mparent\u001b[49m\u001b[43m \u001b[49m\u001b[43m/\u001b[49m\u001b[43m \u001b[49m\u001b[33;43m\"\u001b[39;49m\u001b[33;43mmodels\u001b[39;49m\u001b[33;43m\"\u001b[39;49m\u001b[43m)\u001b[49m\n\u001b[32m      8\u001b[39m \u001b[43m)\u001b[49m\n\u001b[32m     10\u001b[39m \u001b[38;5;66;03m# Or with more control\u001b[39;00m\n\u001b[32m     11\u001b[39m \u001b[38;5;28;01mfrom\u001b[39;00m\u001b[38;5;250m \u001b[39m\u001b[34;01mneural_network_model\u001b[39;00m\u001b[38;5;250m \u001b[39m\u001b[38;5;28;01mimport\u001b[39;00m NeuralNetworkModel\n",
      "\u001b[36mFile \u001b[39m\u001b[32m/workspace/notebooks/../src/monroe/nn.py:1153\u001b[39m, in \u001b[36mrun_neural_network_pipeline\u001b[39m\u001b[34m(file_path, target_column, config_path, output_dir)\u001b[39m\n\u001b[32m   1151\u001b[39m \u001b[38;5;66;03m# Train model\u001b[39;00m\n\u001b[32m   1152\u001b[39m logger.info(\u001b[33mf\u001b[39m\u001b[33m\"\u001b[39m\u001b[33mTraining neural network model with target: \u001b[39m\u001b[38;5;132;01m{\u001b[39;00mtarget_column\u001b[38;5;132;01m}\u001b[39;00m\u001b[33m\"\u001b[39m)\n\u001b[32m-> \u001b[39m\u001b[32m1153\u001b[39m model = \u001b[43mtrain_neural_network_with_dask\u001b[49m\u001b[43m(\u001b[49m\u001b[43mfile_path\u001b[49m\u001b[43m,\u001b[49m\u001b[43m \u001b[49m\u001b[43mtarget_column\u001b[49m\u001b[43m,\u001b[49m\u001b[43m \u001b[49m\u001b[43mconfig\u001b[49m\u001b[43m)\u001b[49m\n\u001b[32m   1155\u001b[39m \u001b[38;5;66;03m# Save model\u001b[39;00m\n\u001b[32m   1156\u001b[39m timestamp = time.strftime(\u001b[33m\"\u001b[39m\u001b[33m%\u001b[39m\u001b[33mY\u001b[39m\u001b[33m%\u001b[39m\u001b[33mm\u001b[39m\u001b[38;5;132;01m%d\u001b[39;00m\u001b[33m_\u001b[39m\u001b[33m%\u001b[39m\u001b[33mH\u001b[39m\u001b[33m%\u001b[39m\u001b[33mM\u001b[39m\u001b[33m%\u001b[39m\u001b[33mS\u001b[39m\u001b[33m\"\u001b[39m)\n",
      "\u001b[36mFile \u001b[39m\u001b[32m/workspace/notebooks/../src/monroe/nn.py:1053\u001b[39m, in \u001b[36mtrain_neural_network_with_dask\u001b[39m\u001b[34m(file_path, target_column, config)\u001b[39m\n\u001b[32m   1051\u001b[39m     logger.info(\u001b[33m\"\u001b[39m\u001b[33mCreating neural network model\u001b[39m\u001b[33m\"\u001b[39m)\n\u001b[32m   1052\u001b[39m     model = NeuralNetworkModel(config)\n\u001b[32m-> \u001b[39m\u001b[32m1053\u001b[39m     \u001b[43mmodel\u001b[49m\u001b[43m.\u001b[49m\u001b[43mfit\u001b[49m\u001b[43m(\u001b[49m\u001b[43mX\u001b[49m\u001b[43m,\u001b[49m\u001b[43m \u001b[49m\u001b[43my\u001b[49m\u001b[43m)\u001b[49m\n\u001b[32m   1055\u001b[39m     \u001b[38;5;28;01mreturn\u001b[39;00m model\n\u001b[32m   1057\u001b[39m \u001b[38;5;28;01mfinally\u001b[39;00m:\n\u001b[32m   1058\u001b[39m     \u001b[38;5;66;03m# Close Dask client\u001b[39;00m\n",
      "\u001b[36mFile \u001b[39m\u001b[32m/workspace/notebooks/../src/monroe/nn.py:768\u001b[39m, in \u001b[36mNeuralNetworkModel.fit\u001b[39m\u001b[34m(self, X, y)\u001b[39m\n\u001b[32m    766\u001b[39m \u001b[38;5;28;01mif\u001b[39;00m \u001b[38;5;28mself\u001b[39m.config.get(\u001b[33m\"\u001b[39m\u001b[33muse_dask\u001b[39m\u001b[33m\"\u001b[39m, \u001b[38;5;28;01mTrue\u001b[39;00m):\n\u001b[32m    767\u001b[39m     logger.info(\u001b[33m\"\u001b[39m\u001b[33mRunning parallel hyperparameter optimization with Dask\u001b[39m\u001b[33m\"\u001b[39m)\n\u001b[32m--> \u001b[39m\u001b[32m768\u001b[39m     \u001b[38;5;28mself\u001b[39m.best_params = \u001b[38;5;28;43mself\u001b[39;49m\u001b[43m.\u001b[49m\u001b[43mparallel_hyperparameter_search\u001b[49m\u001b[43m(\u001b[49m\n\u001b[32m    769\u001b[39m \u001b[43m        \u001b[49m\u001b[43mX\u001b[49m\u001b[43m,\u001b[49m\u001b[43m \u001b[49m\u001b[43my\u001b[49m\u001b[43m,\u001b[49m\u001b[43m \u001b[49m\u001b[43mn_workers\u001b[49m\u001b[43m=\u001b[49m\u001b[38;5;28;43mself\u001b[39;49m\u001b[43m.\u001b[49m\u001b[43mconfig\u001b[49m\u001b[43m.\u001b[49m\u001b[43mget\u001b[49m\u001b[43m(\u001b[49m\u001b[33;43m\"\u001b[39;49m\u001b[33;43mn_workers\u001b[39;49m\u001b[33;43m\"\u001b[39;49m\u001b[43m,\u001b[49m\u001b[43m \u001b[49m\u001b[32;43m4\u001b[39;49m\u001b[43m)\u001b[49m\n\u001b[32m    770\u001b[39m \u001b[43m    \u001b[49m\u001b[43m)\u001b[49m\n\u001b[32m    771\u001b[39m \u001b[38;5;28;01melse\u001b[39;00m:\n\u001b[32m    772\u001b[39m     logger.info(\u001b[33m\"\u001b[39m\u001b[33mRunning sequential hyperparameter optimization\u001b[39m\u001b[33m\"\u001b[39m)\n",
      "\u001b[36mFile \u001b[39m\u001b[32m/workspace/notebooks/../src/monroe/nn.py:695\u001b[39m, in \u001b[36mNeuralNetworkModel.parallel_hyperparameter_search\u001b[39m\u001b[34m(self, X, y, n_workers)\u001b[39m\n\u001b[32m    689\u001b[39m \u001b[38;5;66;03m# Get best parameters\u001b[39;00m\n\u001b[32m    690\u001b[39m study = optuna.load_study(\n\u001b[32m    691\u001b[39m     study_name=study_name,\n\u001b[32m    692\u001b[39m     storage=storage_path\n\u001b[32m    693\u001b[39m )\n\u001b[32m--> \u001b[39m\u001b[32m695\u001b[39m \u001b[38;5;28mself\u001b[39m.best_params = \u001b[43mstudy\u001b[49m\u001b[43m.\u001b[49m\u001b[43mbest_params\u001b[49m\n\u001b[32m    697\u001b[39m \u001b[38;5;66;03m# Add fixed parameters\u001b[39;00m\n\u001b[32m    698\u001b[39m \u001b[38;5;28mself\u001b[39m.best_params[\u001b[33m\"\u001b[39m\u001b[33mepochs\u001b[39m\u001b[33m\"\u001b[39m] = \u001b[38;5;28mself\u001b[39m.config.get(\u001b[33m\"\u001b[39m\u001b[33mepochs\u001b[39m\u001b[33m\"\u001b[39m, \u001b[32m100\u001b[39m)\n",
      "\u001b[36mFile \u001b[39m\u001b[32m/opt/venv/monroe/lib/python3.11/site-packages/optuna/study/study.py:119\u001b[39m, in \u001b[36mStudy.best_params\u001b[39m\u001b[34m(self)\u001b[39m\n\u001b[32m    107\u001b[39m \u001b[38;5;129m@property\u001b[39m\n\u001b[32m    108\u001b[39m \u001b[38;5;28;01mdef\u001b[39;00m\u001b[38;5;250m \u001b[39m\u001b[34mbest_params\u001b[39m(\u001b[38;5;28mself\u001b[39m) -> \u001b[38;5;28mdict\u001b[39m[\u001b[38;5;28mstr\u001b[39m, Any]:\n\u001b[32m    109\u001b[39m \u001b[38;5;250m    \u001b[39m\u001b[33;03m\"\"\"Return parameters of the best trial in the study.\u001b[39;00m\n\u001b[32m    110\u001b[39m \n\u001b[32m    111\u001b[39m \u001b[33;03m    .. note::\u001b[39;00m\n\u001b[32m   (...)\u001b[39m\u001b[32m    116\u001b[39m \n\u001b[32m    117\u001b[39m \u001b[33;03m    \"\"\"\u001b[39;00m\n\u001b[32m--> \u001b[39m\u001b[32m119\u001b[39m     \u001b[38;5;28;01mreturn\u001b[39;00m \u001b[38;5;28;43mself\u001b[39;49m\u001b[43m.\u001b[49m\u001b[43mbest_trial\u001b[49m.params\n",
      "\u001b[36mFile \u001b[39m\u001b[32m/opt/venv/monroe/lib/python3.11/site-packages/optuna/study/study.py:162\u001b[39m, in \u001b[36mStudy.best_trial\u001b[39m\u001b[34m(self)\u001b[39m\n\u001b[32m    156\u001b[39m \u001b[38;5;28;01mif\u001b[39;00m \u001b[38;5;28mself\u001b[39m._is_multi_objective():\n\u001b[32m    157\u001b[39m     \u001b[38;5;28;01mraise\u001b[39;00m \u001b[38;5;167;01mRuntimeError\u001b[39;00m(\n\u001b[32m    158\u001b[39m         \u001b[33m\"\u001b[39m\u001b[33mA single best trial cannot be retrieved from a multi-objective study. Consider \u001b[39m\u001b[33m\"\u001b[39m\n\u001b[32m    159\u001b[39m         \u001b[33m\"\u001b[39m\u001b[33musing Study.best_trials to retrieve a list containing the best trials.\u001b[39m\u001b[33m\"\u001b[39m\n\u001b[32m    160\u001b[39m     )\n\u001b[32m--> \u001b[39m\u001b[32m162\u001b[39m best_trial = \u001b[38;5;28;43mself\u001b[39;49m\u001b[43m.\u001b[49m\u001b[43m_storage\u001b[49m\u001b[43m.\u001b[49m\u001b[43mget_best_trial\u001b[49m\u001b[43m(\u001b[49m\u001b[38;5;28;43mself\u001b[39;49m\u001b[43m.\u001b[49m\u001b[43m_study_id\u001b[49m\u001b[43m)\u001b[49m\n\u001b[32m    164\u001b[39m \u001b[38;5;66;03m# If the trial with the best value is infeasible, select the best trial from all feasible\u001b[39;00m\n\u001b[32m    165\u001b[39m \u001b[38;5;66;03m# trials. Note that the behavior is undefined when constrained optimization without the\u001b[39;00m\n\u001b[32m    166\u001b[39m \u001b[38;5;66;03m# violation value in the best-valued trial.\u001b[39;00m\n\u001b[32m    167\u001b[39m constraints = best_trial.system_attrs.get(_CONSTRAINTS_KEY)\n",
      "\u001b[36mFile \u001b[39m\u001b[32m/opt/venv/monroe/lib/python3.11/site-packages/optuna/storages/_cached_storage.py:180\u001b[39m, in \u001b[36m_CachedStorage.get_best_trial\u001b[39m\u001b[34m(self, study_id)\u001b[39m\n\u001b[32m    179\u001b[39m \u001b[38;5;28;01mdef\u001b[39;00m\u001b[38;5;250m \u001b[39m\u001b[34mget_best_trial\u001b[39m(\u001b[38;5;28mself\u001b[39m, study_id: \u001b[38;5;28mint\u001b[39m) -> FrozenTrial:\n\u001b[32m--> \u001b[39m\u001b[32m180\u001b[39m     \u001b[38;5;28;01mreturn\u001b[39;00m \u001b[38;5;28;43mself\u001b[39;49m\u001b[43m.\u001b[49m\u001b[43m_backend\u001b[49m\u001b[43m.\u001b[49m\u001b[43mget_best_trial\u001b[49m\u001b[43m(\u001b[49m\u001b[43mstudy_id\u001b[49m\u001b[43m)\u001b[49m\n",
      "\u001b[36mFile \u001b[39m\u001b[32m/opt/venv/monroe/lib/python3.11/site-packages/optuna/storages/_rdb/storage.py:909\u001b[39m, in \u001b[36mRDBStorage.get_best_trial\u001b[39m\u001b[34m(self, study_id)\u001b[39m\n\u001b[32m    907\u001b[39m         trial_id = models.TrialModel.find_max_value_trial_id(study_id, \u001b[32m0\u001b[39m, session)\n\u001b[32m    908\u001b[39m     \u001b[38;5;28;01melse\u001b[39;00m:\n\u001b[32m--> \u001b[39m\u001b[32m909\u001b[39m         trial_id = \u001b[43mmodels\u001b[49m\u001b[43m.\u001b[49m\u001b[43mTrialModel\u001b[49m\u001b[43m.\u001b[49m\u001b[43mfind_min_value_trial_id\u001b[49m\u001b[43m(\u001b[49m\u001b[43mstudy_id\u001b[49m\u001b[43m,\u001b[49m\u001b[43m \u001b[49m\u001b[32;43m0\u001b[39;49m\u001b[43m,\u001b[49m\u001b[43m \u001b[49m\u001b[43msession\u001b[49m\u001b[43m)\u001b[49m\n\u001b[32m    911\u001b[39m \u001b[38;5;28;01mreturn\u001b[39;00m \u001b[38;5;28mself\u001b[39m.get_trial(trial_id)\n",
      "\u001b[36mFile \u001b[39m\u001b[32m/opt/venv/monroe/lib/python3.11/site-packages/optuna/storages/_rdb/models.py:236\u001b[39m, in \u001b[36mTrialModel.find_min_value_trial_id\u001b[39m\u001b[34m(cls, study_id, objective, session)\u001b[39m\n\u001b[32m    216\u001b[39m trial = (\n\u001b[32m    217\u001b[39m     session.query(\u001b[38;5;28mcls\u001b[39m)\n\u001b[32m    218\u001b[39m     .with_entities(\u001b[38;5;28mcls\u001b[39m.trial_id)\n\u001b[32m   (...)\u001b[39m\u001b[32m    233\u001b[39m     .one_or_none()\n\u001b[32m    234\u001b[39m )\n\u001b[32m    235\u001b[39m \u001b[38;5;28;01mif\u001b[39;00m trial \u001b[38;5;129;01mis\u001b[39;00m \u001b[38;5;28;01mNone\u001b[39;00m:\n\u001b[32m--> \u001b[39m\u001b[32m236\u001b[39m     \u001b[38;5;28;01mraise\u001b[39;00m \u001b[38;5;167;01mValueError\u001b[39;00m(NOT_FOUND_MSG)\n\u001b[32m    237\u001b[39m \u001b[38;5;28;01mreturn\u001b[39;00m trial[\u001b[32m0\u001b[39m]\n",
      "\u001b[31mValueError\u001b[39m: Record does not exist."
     ]
    }
   ],
   "source": [
    "# Simple example\n",
    "from monroe.nn import run_neural_network_pipeline\n",
    "\n",
    "# Run complete pipeline with auto-detection\n",
    "results = run_neural_network_pipeline(\n",
    "    file_path=str(fpath),\n",
    "    output_dir=str(Path.cwd().parent / \"models\")\n",
    ")\n",
    "\n",
    "# Or with more control\n",
    "from monroe.nn import NeuralNetworkModel\n",
    "import numpy as np\n",
    "\n",
    "# Configuration\n",
    "config = {\n",
    "    \"use_dask\": True,\n",
    "    \"n_workers\": 4,\n",
    "    \"optimize_hyperparameters\": True,\n",
    "    \"n_trials\": 20,\n",
    "    \"epochs\": 100\n",
    "}\n",
    "\n",
    "# Create model\n",
    "model = NeuralNetworkModel(config)\n",
    "\n",
    "# Train model\n",
    "X = np.load(\"features.npy\")\n",
    "y = np.load(\"targets.npy\")\n",
    "model.fit(X, y)\n",
    "\n",
    "# Make predictions\n",
    "predictions = model.predict(X_test)\n",
    "\n",
    "# Save model\n",
    "model.save(\"neural_network_model.pt\")"
   ]
  },
  {
   "cell_type": "code",
   "execution_count": null,
   "id": "08c98980-77ad-41b1-bfaa-848621f5b32c",
   "metadata": {},
   "outputs": [],
   "source": []
  },
  {
   "cell_type": "code",
   "execution_count": null,
   "id": "f11946e8-2c93-45a2-93a0-94e18b47f457",
   "metadata": {},
   "outputs": [],
   "source": []
  },
  {
   "cell_type": "code",
   "execution_count": null,
   "id": "c33fb119-f4c7-4cfc-b337-212d56053254",
   "metadata": {},
   "outputs": [],
   "source": []
  },
  {
   "cell_type": "code",
   "execution_count": null,
   "id": "0a69072c-0c8a-4b38-9413-c29237bf5599",
   "metadata": {},
   "outputs": [],
   "source": []
  },
  {
   "cell_type": "code",
   "execution_count": null,
   "id": "50567716-d6be-4ec9-ac94-2826d668b95c",
   "metadata": {},
   "outputs": [],
   "source": []
  },
  {
   "cell_type": "code",
   "execution_count": null,
   "id": "0263fb60-0b66-4682-8c14-3f2d0a824608",
   "metadata": {},
   "outputs": [],
   "source": []
  },
  {
   "cell_type": "code",
   "execution_count": null,
   "id": "da13786f-d022-4c38-83e1-c54a76e0db92",
   "metadata": {},
   "outputs": [],
   "source": []
  },
  {
   "cell_type": "code",
   "execution_count": null,
   "id": "a86cf547-347a-4ddb-a747-756ff8bd76a2",
   "metadata": {},
   "outputs": [],
   "source": []
  }
 ],
 "metadata": {
  "kernelspec": {
   "display_name": "monroe",
   "language": "python",
   "name": "monroe"
  },
  "language_info": {
   "codemirror_mode": {
    "name": "ipython",
    "version": 3
   },
   "file_extension": ".py",
   "mimetype": "text/x-python",
   "name": "python",
   "nbconvert_exporter": "python",
   "pygments_lexer": "ipython3",
   "version": "3.11.13"
  }
 },
 "nbformat": 4,
 "nbformat_minor": 5
}
