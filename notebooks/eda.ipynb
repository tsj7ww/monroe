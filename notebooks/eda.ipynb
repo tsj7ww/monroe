{
 "cells": [
  {
   "cell_type": "code",
   "execution_count": 19,
   "id": "67dc53ac-80a1-4390-8821-aeccaa81050e",
   "metadata": {},
   "outputs": [],
   "source": [
    "%load_ext autoreload\n",
    "%autoreload 2"
   ]
  },
  {
   "cell_type": "code",
   "execution_count": 26,
   "id": "b4004a88-841f-44c3-8e5c-9a93195e6d3d",
   "metadata": {},
   "outputs": [],
   "source": [
    "import os\n",
    "from pathlib import Path\n",
    "import yaml\n",
    "\n",
    "import numpy as np\n",
    "import pandas as pd\n",
    "import dask.dataframe as dd"
   ]
  },
  {
   "cell_type": "code",
   "execution_count": 21,
   "id": "760c960d-98a4-4465-a93e-ea6706800d72",
   "metadata": {},
   "outputs": [],
   "source": [
    "import sys\n",
    "sys.path.append('../src')\n",
    "import monroe"
   ]
  },
  {
   "cell_type": "code",
   "execution_count": 40,
   "id": "5c0aecc6-5f76-46c0-8d9a-2dc8835761d4",
   "metadata": {},
   "outputs": [
    {
     "name": "stderr",
     "output_type": "stream",
     "text": [
      "2025-04-26 20:56:50,193 - matplotlib.font_manager - INFO - generated new fontManager\n"
     ]
    },
    {
     "ename": "ImportError",
     "evalue": "cannot import name 'Data' from 'monroe.data' (/workspace/notebooks/../src/monroe/data.py)",
     "output_type": "error",
     "traceback": [
      "\u001b[31m---------------------------------------------------------------------------\u001b[39m",
      "\u001b[31mImportError\u001b[39m                               Traceback (most recent call last)",
      "\u001b[36mCell\u001b[39m\u001b[36m \u001b[39m\u001b[32mIn[40]\u001b[39m\u001b[32m, line 3\u001b[39m\n\u001b[32m      1\u001b[39m \u001b[38;5;28;01mimport\u001b[39;00m\u001b[38;5;250m \u001b[39m\u001b[34;01mmonroe\u001b[39;00m\u001b[34;01m.\u001b[39;00m\u001b[34;01mutils\u001b[39;00m\u001b[38;5;250m \u001b[39m\u001b[38;5;28;01mas\u001b[39;00m\u001b[38;5;250m \u001b[39m\u001b[34;01mutils\u001b[39;00m\n\u001b[32m      2\u001b[39m \u001b[38;5;28;01mfrom\u001b[39;00m\u001b[38;5;250m \u001b[39m\u001b[34;01mmonroe\u001b[39;00m\u001b[34;01m.\u001b[39;00m\u001b[34;01mconfig\u001b[39;00m\u001b[38;5;250m \u001b[39m\u001b[38;5;28;01mimport\u001b[39;00m Config\n\u001b[32m----> \u001b[39m\u001b[32m3\u001b[39m \u001b[38;5;28;01mfrom\u001b[39;00m\u001b[38;5;250m \u001b[39m\u001b[34;01mmonroe\u001b[39;00m\u001b[34;01m.\u001b[39;00m\u001b[34;01mdata\u001b[39;00m\u001b[38;5;250m \u001b[39m\u001b[38;5;28;01mimport\u001b[39;00m Data \u001b[38;5;66;03m# depends on config and data\u001b[39;00m\n\u001b[32m      4\u001b[39m \u001b[38;5;66;03m# from monroe.preprocess import Preprocess # depends on data\u001b[39;00m\n\u001b[32m      5\u001b[39m \u001b[38;5;66;03m# from monroe.features import FeatureEngineer # depends on data\u001b[39;00m\n\u001b[32m      6\u001b[39m \u001b[38;5;66;03m# from monroe.selection import Selector # depends on data, evaluate, config\u001b[39;00m\n\u001b[32m      7\u001b[39m \u001b[38;5;66;03m# from monroe.train import Trainer # depends on data, selector\u001b[39;00m\n\u001b[32m      8\u001b[39m \u001b[38;5;66;03m# from monroe.evalute import Evaluator # depends on config\u001b[39;00m\n",
      "\u001b[31mImportError\u001b[39m: cannot import name 'Data' from 'monroe.data' (/workspace/notebooks/../src/monroe/data.py)"
     ]
    }
   ],
   "source": [
    "import monroe.utils as utils\n",
    "from monroe.config import Config\n",
    "from monroe.data import Data # depends on config and data\n",
    "# from monroe.preprocess import Preprocess # depends on data\n",
    "# from monroe.features import FeatureEngineer # depends on data\n",
    "# from monroe.selection import Selector # depends on data, evaluate, config\n",
    "# from monroe.train import Trainer # depends on data, selector\n",
    "# from monroe.evalute import Evaluator # depends on config"
   ]
  },
  {
   "cell_type": "code",
   "execution_count": 35,
   "id": "da23c85d-380e-4287-a84e-404aa898f65c",
   "metadata": {},
   "outputs": [
    {
     "name": "stderr",
     "output_type": "stream",
     "text": [
      "2025-04-26 20:42:18,417 - AutoMLConfig - INFO - Created run directory: ./output/run_20250426_204218\n"
     ]
    }
   ],
   "source": [
    "data_fpath = Path.cwd().parent / 'data' / 'raw' / 'creditcard.csv'\n",
    "target_col = 'Class'\n",
    "config = Config(data_fpath=data_fpath,\n",
    "                target_column=target_col)"
   ]
  },
  {
   "cell_type": "code",
   "execution_count": null,
   "id": "115f0106-f2f8-430e-be59-2557a14aecc6",
   "metadata": {},
   "outputs": [],
   "source": []
  },
  {
   "cell_type": "code",
   "execution_count": null,
   "id": "aa65b4ae-76c2-4629-a98b-8648290878cf",
   "metadata": {},
   "outputs": [],
   "source": []
  },
  {
   "cell_type": "code",
   "execution_count": null,
   "id": "9e1e871a-75f4-4b4c-a389-ba5e1bce3c34",
   "metadata": {},
   "outputs": [],
   "source": []
  },
  {
   "cell_type": "code",
   "execution_count": null,
   "id": "149bf41f-6bcb-46c5-8919-791bbae3d316",
   "metadata": {},
   "outputs": [],
   "source": []
  },
  {
   "cell_type": "code",
   "execution_count": 5,
   "id": "8a57d37e-6382-43fb-a4db-83ad2e2aad44",
   "metadata": {},
   "outputs": [
    {
     "name": "stdout",
     "output_type": "stream",
     "text": [
      "   Time        V1        V2        V3        V4        V5        V6        V7  \\\n",
      "0   0.0 -1.359807 -0.072781  2.536347  1.378155 -0.338321  0.462388  0.239599   \n",
      "1   0.0  1.191857  0.266151  0.166480  0.448154  0.060018 -0.082361 -0.078803   \n",
      "2   1.0 -1.358354 -1.340163  1.773209  0.379780 -0.503198  1.800499  0.791461   \n",
      "3   1.0 -0.966272 -0.185226  1.792993 -0.863291 -0.010309  1.247203  0.237609   \n",
      "4   2.0 -1.158233  0.877737  1.548718  0.403034 -0.407193  0.095921  0.592941   \n",
      "\n",
      "         V8        V9  ...       V21       V22       V23       V24       V25  \\\n",
      "0  0.098698  0.363787  ... -0.018307  0.277838 -0.110474  0.066928  0.128539   \n",
      "1  0.085102 -0.255425  ... -0.225775 -0.638672  0.101288 -0.339846  0.167170   \n",
      "2  0.247676 -1.514654  ...  0.247998  0.771679  0.909412 -0.689281 -0.327642   \n",
      "3  0.377436 -1.387024  ... -0.108300  0.005274 -0.190321 -1.175575  0.647376   \n",
      "4 -0.270533  0.817739  ... -0.009431  0.798278 -0.137458  0.141267 -0.206010   \n",
      "\n",
      "        V26       V27       V28  Amount  Class  \n",
      "0 -0.189115  0.133558 -0.021053  149.62      0  \n",
      "1  0.125895 -0.008983  0.014724    2.69      0  \n",
      "2 -0.139097 -0.055353 -0.059752  378.66      0  \n",
      "3 -0.221929  0.062723  0.061458  123.50      0  \n",
      "4  0.502292  0.219422  0.215153   69.99      0  \n",
      "\n",
      "[5 rows x 31 columns]\n"
     ]
    }
   ],
   "source": [
    "# Read a CSV file into a Dask dataframe\n",
    "df = dd.read_csv(fpath, dtype={'Time': 'float64'})\n",
    "\n",
    "# If you want to see the first few rows\n",
    "print(df.head())\n",
    "\n",
    "# To perform computations and get a pandas dataframe\n",
    "result = df.compute()"
   ]
  },
  {
   "cell_type": "code",
   "execution_count": null,
   "id": "b6d93c5e-a831-4e8d-960b-11c5729b699e",
   "metadata": {},
   "outputs": [],
   "source": []
  },
  {
   "cell_type": "code",
   "execution_count": null,
   "id": "53d46a8d-10f2-443a-9cce-7e46e7fab97b",
   "metadata": {},
   "outputs": [],
   "source": []
  },
  {
   "cell_type": "code",
   "execution_count": 7,
   "id": "e288612f-504a-4fae-97a0-73e6aeca9919",
   "metadata": {},
   "outputs": [
    {
     "name": "stderr",
     "output_type": "stream",
     "text": [
      "2025-04-19 20:47:28,993 - NeuralNetworkModel - INFO - Loading data sample from /workspace/data/raw/creditcard.csv\n",
      "2025-04-19 20:47:29,008 - NeuralNetworkModel - INFO - Auto-detected target column: Amount\n",
      "2025-04-19 20:47:29,009 - NeuralNetworkModel - INFO - Training neural network model with target: Amount\n",
      "2025-04-19 20:47:29,016 - NeuralNetworkModel - INFO - Dask dashboard at: http://dask-scheduler:8787/status\n",
      "2025-04-19 20:47:29,016 - NeuralNetworkModel - INFO - Loading data from /workspace/data/raw/creditcard.csv\n",
      "2025-04-19 20:47:29,023 - NeuralNetworkModel - INFO - Converting Dask DataFrame to numpy arrays\n",
      "2025-04-19 20:47:30,469 - NeuralNetworkModel - INFO - Creating neural network model\n",
      "2025-04-19 20:47:30,470 - NeuralNetworkModel - INFO - Neural network will use device: cpu\n",
      "2025-04-19 20:47:30,471 - NeuralNetworkModel - INFO - Fitting neural network model\n",
      "2025-04-19 20:47:30,477 - NeuralNetworkModel - INFO - Problem type: Regression\n",
      "2025-04-19 20:47:30,478 - NeuralNetworkModel - INFO - Input dimension: 30, Output dimension: 1\n",
      "2025-04-19 20:47:30,478 - NeuralNetworkModel - INFO - Running parallel hyperparameter optimization with Dask\n",
      "2025-04-19 20:47:30,498 - NeuralNetworkModel - INFO - Dask dashboard at: http://dask-scheduler:8787/status\n",
      "[I 2025-04-19 20:47:30,881] A new study created in RDB with name: neural_network_parallel_1745095650\n",
      "/opt/venv/monroe/lib/python3.11/site-packages/distributed/client.py:3383: UserWarning: Sending large graph of size 16.84 MiB.\n",
      "This may cause some slowdown.\n",
      "Consider loading the data with Dask directly\n",
      " or using futures or delayed objects to embed the data into the graph without repetition.\n",
      "See also https://docs.dask.org/en/stable/best-practices.html#load-data-with-dask for more information.\n",
      "  warnings.warn(\n",
      "/opt/venv/monroe/lib/python3.11/site-packages/distributed/client.py:3383: UserWarning: Sending large graph of size 16.85 MiB.\n",
      "This may cause some slowdown.\n",
      "Consider loading the data with Dask directly\n",
      " or using futures or delayed objects to embed the data into the graph without repetition.\n",
      "See also https://docs.dask.org/en/stable/best-practices.html#load-data-with-dask for more information.\n",
      "  warnings.warn(\n",
      "2025-04-19 20:47:31,087 - NeuralNetworkModel - ERROR - Error in pipeline: Record does not exist.\n"
     ]
    },
    {
     "ename": "ValueError",
     "evalue": "Record does not exist.",
     "output_type": "error",
     "traceback": [
      "\u001b[31m---------------------------------------------------------------------------\u001b[39m",
      "\u001b[31mValueError\u001b[39m                                Traceback (most recent call last)",
      "\u001b[36mCell\u001b[39m\u001b[36m \u001b[39m\u001b[32mIn[7]\u001b[39m\u001b[32m, line 5\u001b[39m\n\u001b[32m      2\u001b[39m \u001b[38;5;28;01mfrom\u001b[39;00m\u001b[38;5;250m \u001b[39m\u001b[34;01mmonroe\u001b[39;00m\u001b[34;01m.\u001b[39;00m\u001b[34;01mnn\u001b[39;00m\u001b[38;5;250m \u001b[39m\u001b[38;5;28;01mimport\u001b[39;00m run_neural_network_pipeline\n\u001b[32m      4\u001b[39m \u001b[38;5;66;03m# Run complete pipeline with auto-detection\u001b[39;00m\n\u001b[32m----> \u001b[39m\u001b[32m5\u001b[39m results = \u001b[43mrun_neural_network_pipeline\u001b[49m\u001b[43m(\u001b[49m\n\u001b[32m      6\u001b[39m \u001b[43m    \u001b[49m\u001b[43mfile_path\u001b[49m\u001b[43m=\u001b[49m\u001b[38;5;28;43mstr\u001b[39;49m\u001b[43m(\u001b[49m\u001b[43mfpath\u001b[49m\u001b[43m)\u001b[49m\u001b[43m,\u001b[49m\n\u001b[32m      7\u001b[39m \u001b[43m    \u001b[49m\u001b[43moutput_dir\u001b[49m\u001b[43m=\u001b[49m\u001b[38;5;28;43mstr\u001b[39;49m\u001b[43m(\u001b[49m\u001b[43mPath\u001b[49m\u001b[43m.\u001b[49m\u001b[43mcwd\u001b[49m\u001b[43m(\u001b[49m\u001b[43m)\u001b[49m\u001b[43m.\u001b[49m\u001b[43mparent\u001b[49m\u001b[43m \u001b[49m\u001b[43m/\u001b[49m\u001b[43m \u001b[49m\u001b[33;43m\"\u001b[39;49m\u001b[33;43mmodels\u001b[39;49m\u001b[33;43m\"\u001b[39;49m\u001b[43m)\u001b[49m\n\u001b[32m      8\u001b[39m \u001b[43m)\u001b[49m\n\u001b[32m     10\u001b[39m \u001b[38;5;66;03m# Or with more control\u001b[39;00m\n\u001b[32m     11\u001b[39m \u001b[38;5;28;01mfrom\u001b[39;00m\u001b[38;5;250m \u001b[39m\u001b[34;01mneural_network_model\u001b[39;00m\u001b[38;5;250m \u001b[39m\u001b[38;5;28;01mimport\u001b[39;00m NeuralNetworkModel\n",
      "\u001b[36mFile \u001b[39m\u001b[32m/workspace/notebooks/../src/monroe/nn.py:1153\u001b[39m, in \u001b[36mrun_neural_network_pipeline\u001b[39m\u001b[34m(file_path, target_column, config_path, output_dir)\u001b[39m\n\u001b[32m   1151\u001b[39m \u001b[38;5;66;03m# Train model\u001b[39;00m\n\u001b[32m   1152\u001b[39m logger.info(\u001b[33mf\u001b[39m\u001b[33m\"\u001b[39m\u001b[33mTraining neural network model with target: \u001b[39m\u001b[38;5;132;01m{\u001b[39;00mtarget_column\u001b[38;5;132;01m}\u001b[39;00m\u001b[33m\"\u001b[39m)\n\u001b[32m-> \u001b[39m\u001b[32m1153\u001b[39m model = \u001b[43mtrain_neural_network_with_dask\u001b[49m\u001b[43m(\u001b[49m\u001b[43mfile_path\u001b[49m\u001b[43m,\u001b[49m\u001b[43m \u001b[49m\u001b[43mtarget_column\u001b[49m\u001b[43m,\u001b[49m\u001b[43m \u001b[49m\u001b[43mconfig\u001b[49m\u001b[43m)\u001b[49m\n\u001b[32m   1155\u001b[39m \u001b[38;5;66;03m# Save model\u001b[39;00m\n\u001b[32m   1156\u001b[39m timestamp = time.strftime(\u001b[33m\"\u001b[39m\u001b[33m%\u001b[39m\u001b[33mY\u001b[39m\u001b[33m%\u001b[39m\u001b[33mm\u001b[39m\u001b[38;5;132;01m%d\u001b[39;00m\u001b[33m_\u001b[39m\u001b[33m%\u001b[39m\u001b[33mH\u001b[39m\u001b[33m%\u001b[39m\u001b[33mM\u001b[39m\u001b[33m%\u001b[39m\u001b[33mS\u001b[39m\u001b[33m\"\u001b[39m)\n",
      "\u001b[36mFile \u001b[39m\u001b[32m/workspace/notebooks/../src/monroe/nn.py:1053\u001b[39m, in \u001b[36mtrain_neural_network_with_dask\u001b[39m\u001b[34m(file_path, target_column, config)\u001b[39m\n\u001b[32m   1051\u001b[39m     logger.info(\u001b[33m\"\u001b[39m\u001b[33mCreating neural network model\u001b[39m\u001b[33m\"\u001b[39m)\n\u001b[32m   1052\u001b[39m     model = NeuralNetworkModel(config)\n\u001b[32m-> \u001b[39m\u001b[32m1053\u001b[39m     \u001b[43mmodel\u001b[49m\u001b[43m.\u001b[49m\u001b[43mfit\u001b[49m\u001b[43m(\u001b[49m\u001b[43mX\u001b[49m\u001b[43m,\u001b[49m\u001b[43m \u001b[49m\u001b[43my\u001b[49m\u001b[43m)\u001b[49m\n\u001b[32m   1055\u001b[39m     \u001b[38;5;28;01mreturn\u001b[39;00m model\n\u001b[32m   1057\u001b[39m \u001b[38;5;28;01mfinally\u001b[39;00m:\n\u001b[32m   1058\u001b[39m     \u001b[38;5;66;03m# Close Dask client\u001b[39;00m\n",
      "\u001b[36mFile \u001b[39m\u001b[32m/workspace/notebooks/../src/monroe/nn.py:768\u001b[39m, in \u001b[36mNeuralNetworkModel.fit\u001b[39m\u001b[34m(self, X, y)\u001b[39m\n\u001b[32m    766\u001b[39m \u001b[38;5;28;01mif\u001b[39;00m \u001b[38;5;28mself\u001b[39m.config.get(\u001b[33m\"\u001b[39m\u001b[33muse_dask\u001b[39m\u001b[33m\"\u001b[39m, \u001b[38;5;28;01mTrue\u001b[39;00m):\n\u001b[32m    767\u001b[39m     logger.info(\u001b[33m\"\u001b[39m\u001b[33mRunning parallel hyperparameter optimization with Dask\u001b[39m\u001b[33m\"\u001b[39m)\n\u001b[32m--> \u001b[39m\u001b[32m768\u001b[39m     \u001b[38;5;28mself\u001b[39m.best_params = \u001b[38;5;28;43mself\u001b[39;49m\u001b[43m.\u001b[49m\u001b[43mparallel_hyperparameter_search\u001b[49m\u001b[43m(\u001b[49m\n\u001b[32m    769\u001b[39m \u001b[43m        \u001b[49m\u001b[43mX\u001b[49m\u001b[43m,\u001b[49m\u001b[43m \u001b[49m\u001b[43my\u001b[49m\u001b[43m,\u001b[49m\u001b[43m \u001b[49m\u001b[43mn_workers\u001b[49m\u001b[43m=\u001b[49m\u001b[38;5;28;43mself\u001b[39;49m\u001b[43m.\u001b[49m\u001b[43mconfig\u001b[49m\u001b[43m.\u001b[49m\u001b[43mget\u001b[49m\u001b[43m(\u001b[49m\u001b[33;43m\"\u001b[39;49m\u001b[33;43mn_workers\u001b[39;49m\u001b[33;43m\"\u001b[39;49m\u001b[43m,\u001b[49m\u001b[43m \u001b[49m\u001b[32;43m4\u001b[39;49m\u001b[43m)\u001b[49m\n\u001b[32m    770\u001b[39m \u001b[43m    \u001b[49m\u001b[43m)\u001b[49m\n\u001b[32m    771\u001b[39m \u001b[38;5;28;01melse\u001b[39;00m:\n\u001b[32m    772\u001b[39m     logger.info(\u001b[33m\"\u001b[39m\u001b[33mRunning sequential hyperparameter optimization\u001b[39m\u001b[33m\"\u001b[39m)\n",
      "\u001b[36mFile \u001b[39m\u001b[32m/workspace/notebooks/../src/monroe/nn.py:695\u001b[39m, in \u001b[36mNeuralNetworkModel.parallel_hyperparameter_search\u001b[39m\u001b[34m(self, X, y, n_workers)\u001b[39m\n\u001b[32m    689\u001b[39m \u001b[38;5;66;03m# Get best parameters\u001b[39;00m\n\u001b[32m    690\u001b[39m study = optuna.load_study(\n\u001b[32m    691\u001b[39m     study_name=study_name,\n\u001b[32m    692\u001b[39m     storage=storage_path\n\u001b[32m    693\u001b[39m )\n\u001b[32m--> \u001b[39m\u001b[32m695\u001b[39m \u001b[38;5;28mself\u001b[39m.best_params = \u001b[43mstudy\u001b[49m\u001b[43m.\u001b[49m\u001b[43mbest_params\u001b[49m\n\u001b[32m    697\u001b[39m \u001b[38;5;66;03m# Add fixed parameters\u001b[39;00m\n\u001b[32m    698\u001b[39m \u001b[38;5;28mself\u001b[39m.best_params[\u001b[33m\"\u001b[39m\u001b[33mepochs\u001b[39m\u001b[33m\"\u001b[39m] = \u001b[38;5;28mself\u001b[39m.config.get(\u001b[33m\"\u001b[39m\u001b[33mepochs\u001b[39m\u001b[33m\"\u001b[39m, \u001b[32m100\u001b[39m)\n",
      "\u001b[36mFile \u001b[39m\u001b[32m/opt/venv/monroe/lib/python3.11/site-packages/optuna/study/study.py:119\u001b[39m, in \u001b[36mStudy.best_params\u001b[39m\u001b[34m(self)\u001b[39m\n\u001b[32m    107\u001b[39m \u001b[38;5;129m@property\u001b[39m\n\u001b[32m    108\u001b[39m \u001b[38;5;28;01mdef\u001b[39;00m\u001b[38;5;250m \u001b[39m\u001b[34mbest_params\u001b[39m(\u001b[38;5;28mself\u001b[39m) -> \u001b[38;5;28mdict\u001b[39m[\u001b[38;5;28mstr\u001b[39m, Any]:\n\u001b[32m    109\u001b[39m \u001b[38;5;250m    \u001b[39m\u001b[33;03m\"\"\"Return parameters of the best trial in the study.\u001b[39;00m\n\u001b[32m    110\u001b[39m \n\u001b[32m    111\u001b[39m \u001b[33;03m    .. note::\u001b[39;00m\n\u001b[32m   (...)\u001b[39m\u001b[32m    116\u001b[39m \n\u001b[32m    117\u001b[39m \u001b[33;03m    \"\"\"\u001b[39;00m\n\u001b[32m--> \u001b[39m\u001b[32m119\u001b[39m     \u001b[38;5;28;01mreturn\u001b[39;00m \u001b[38;5;28;43mself\u001b[39;49m\u001b[43m.\u001b[49m\u001b[43mbest_trial\u001b[49m.params\n",
      "\u001b[36mFile \u001b[39m\u001b[32m/opt/venv/monroe/lib/python3.11/site-packages/optuna/study/study.py:162\u001b[39m, in \u001b[36mStudy.best_trial\u001b[39m\u001b[34m(self)\u001b[39m\n\u001b[32m    156\u001b[39m \u001b[38;5;28;01mif\u001b[39;00m \u001b[38;5;28mself\u001b[39m._is_multi_objective():\n\u001b[32m    157\u001b[39m     \u001b[38;5;28;01mraise\u001b[39;00m \u001b[38;5;167;01mRuntimeError\u001b[39;00m(\n\u001b[32m    158\u001b[39m         \u001b[33m\"\u001b[39m\u001b[33mA single best trial cannot be retrieved from a multi-objective study. Consider \u001b[39m\u001b[33m\"\u001b[39m\n\u001b[32m    159\u001b[39m         \u001b[33m\"\u001b[39m\u001b[33musing Study.best_trials to retrieve a list containing the best trials.\u001b[39m\u001b[33m\"\u001b[39m\n\u001b[32m    160\u001b[39m     )\n\u001b[32m--> \u001b[39m\u001b[32m162\u001b[39m best_trial = \u001b[38;5;28;43mself\u001b[39;49m\u001b[43m.\u001b[49m\u001b[43m_storage\u001b[49m\u001b[43m.\u001b[49m\u001b[43mget_best_trial\u001b[49m\u001b[43m(\u001b[49m\u001b[38;5;28;43mself\u001b[39;49m\u001b[43m.\u001b[49m\u001b[43m_study_id\u001b[49m\u001b[43m)\u001b[49m\n\u001b[32m    164\u001b[39m \u001b[38;5;66;03m# If the trial with the best value is infeasible, select the best trial from all feasible\u001b[39;00m\n\u001b[32m    165\u001b[39m \u001b[38;5;66;03m# trials. Note that the behavior is undefined when constrained optimization without the\u001b[39;00m\n\u001b[32m    166\u001b[39m \u001b[38;5;66;03m# violation value in the best-valued trial.\u001b[39;00m\n\u001b[32m    167\u001b[39m constraints = best_trial.system_attrs.get(_CONSTRAINTS_KEY)\n",
      "\u001b[36mFile \u001b[39m\u001b[32m/opt/venv/monroe/lib/python3.11/site-packages/optuna/storages/_cached_storage.py:180\u001b[39m, in \u001b[36m_CachedStorage.get_best_trial\u001b[39m\u001b[34m(self, study_id)\u001b[39m\n\u001b[32m    179\u001b[39m \u001b[38;5;28;01mdef\u001b[39;00m\u001b[38;5;250m \u001b[39m\u001b[34mget_best_trial\u001b[39m(\u001b[38;5;28mself\u001b[39m, study_id: \u001b[38;5;28mint\u001b[39m) -> FrozenTrial:\n\u001b[32m--> \u001b[39m\u001b[32m180\u001b[39m     \u001b[38;5;28;01mreturn\u001b[39;00m \u001b[38;5;28;43mself\u001b[39;49m\u001b[43m.\u001b[49m\u001b[43m_backend\u001b[49m\u001b[43m.\u001b[49m\u001b[43mget_best_trial\u001b[49m\u001b[43m(\u001b[49m\u001b[43mstudy_id\u001b[49m\u001b[43m)\u001b[49m\n",
      "\u001b[36mFile \u001b[39m\u001b[32m/opt/venv/monroe/lib/python3.11/site-packages/optuna/storages/_rdb/storage.py:909\u001b[39m, in \u001b[36mRDBStorage.get_best_trial\u001b[39m\u001b[34m(self, study_id)\u001b[39m\n\u001b[32m    907\u001b[39m         trial_id = models.TrialModel.find_max_value_trial_id(study_id, \u001b[32m0\u001b[39m, session)\n\u001b[32m    908\u001b[39m     \u001b[38;5;28;01melse\u001b[39;00m:\n\u001b[32m--> \u001b[39m\u001b[32m909\u001b[39m         trial_id = \u001b[43mmodels\u001b[49m\u001b[43m.\u001b[49m\u001b[43mTrialModel\u001b[49m\u001b[43m.\u001b[49m\u001b[43mfind_min_value_trial_id\u001b[49m\u001b[43m(\u001b[49m\u001b[43mstudy_id\u001b[49m\u001b[43m,\u001b[49m\u001b[43m \u001b[49m\u001b[32;43m0\u001b[39;49m\u001b[43m,\u001b[49m\u001b[43m \u001b[49m\u001b[43msession\u001b[49m\u001b[43m)\u001b[49m\n\u001b[32m    911\u001b[39m \u001b[38;5;28;01mreturn\u001b[39;00m \u001b[38;5;28mself\u001b[39m.get_trial(trial_id)\n",
      "\u001b[36mFile \u001b[39m\u001b[32m/opt/venv/monroe/lib/python3.11/site-packages/optuna/storages/_rdb/models.py:236\u001b[39m, in \u001b[36mTrialModel.find_min_value_trial_id\u001b[39m\u001b[34m(cls, study_id, objective, session)\u001b[39m\n\u001b[32m    216\u001b[39m trial = (\n\u001b[32m    217\u001b[39m     session.query(\u001b[38;5;28mcls\u001b[39m)\n\u001b[32m    218\u001b[39m     .with_entities(\u001b[38;5;28mcls\u001b[39m.trial_id)\n\u001b[32m   (...)\u001b[39m\u001b[32m    233\u001b[39m     .one_or_none()\n\u001b[32m    234\u001b[39m )\n\u001b[32m    235\u001b[39m \u001b[38;5;28;01mif\u001b[39;00m trial \u001b[38;5;129;01mis\u001b[39;00m \u001b[38;5;28;01mNone\u001b[39;00m:\n\u001b[32m--> \u001b[39m\u001b[32m236\u001b[39m     \u001b[38;5;28;01mraise\u001b[39;00m \u001b[38;5;167;01mValueError\u001b[39;00m(NOT_FOUND_MSG)\n\u001b[32m    237\u001b[39m \u001b[38;5;28;01mreturn\u001b[39;00m trial[\u001b[32m0\u001b[39m]\n",
      "\u001b[31mValueError\u001b[39m: Record does not exist."
     ]
    }
   ],
   "source": [
    "# Simple example\n",
    "from monroe.nn import run_neural_network_pipeline\n",
    "\n",
    "# Run complete pipeline with auto-detection\n",
    "results = run_neural_network_pipeline(\n",
    "    file_path=str(fpath),\n",
    "    output_dir=str(Path.cwd().parent / \"models\")\n",
    ")\n",
    "\n",
    "# Or with more control\n",
    "from monroe.nn import NeuralNetworkModel\n",
    "import numpy as np\n",
    "\n",
    "# Configuration\n",
    "config = {\n",
    "    \"use_dask\": True,\n",
    "    \"n_workers\": 4,\n",
    "    \"optimize_hyperparameters\": True,\n",
    "    \"n_trials\": 20,\n",
    "    \"epochs\": 100\n",
    "}\n",
    "\n",
    "# Create model\n",
    "model = NeuralNetworkModel(config)\n",
    "\n",
    "# Train model\n",
    "X = np.load(\"features.npy\")\n",
    "y = np.load(\"targets.npy\")\n",
    "model.fit(X, y)\n",
    "\n",
    "# Make predictions\n",
    "predictions = model.predict(X_test)\n",
    "\n",
    "# Save model\n",
    "model.save(\"neural_network_model.pt\")"
   ]
  },
  {
   "cell_type": "code",
   "execution_count": null,
   "id": "08c98980-77ad-41b1-bfaa-848621f5b32c",
   "metadata": {},
   "outputs": [],
   "source": []
  },
  {
   "cell_type": "code",
   "execution_count": null,
   "id": "f11946e8-2c93-45a2-93a0-94e18b47f457",
   "metadata": {},
   "outputs": [],
   "source": []
  },
  {
   "cell_type": "code",
   "execution_count": null,
   "id": "c33fb119-f4c7-4cfc-b337-212d56053254",
   "metadata": {},
   "outputs": [],
   "source": []
  },
  {
   "cell_type": "code",
   "execution_count": null,
   "id": "0a69072c-0c8a-4b38-9413-c29237bf5599",
   "metadata": {},
   "outputs": [],
   "source": []
  },
  {
   "cell_type": "code",
   "execution_count": null,
   "id": "50567716-d6be-4ec9-ac94-2826d668b95c",
   "metadata": {},
   "outputs": [],
   "source": []
  },
  {
   "cell_type": "code",
   "execution_count": null,
   "id": "0263fb60-0b66-4682-8c14-3f2d0a824608",
   "metadata": {},
   "outputs": [],
   "source": []
  },
  {
   "cell_type": "code",
   "execution_count": null,
   "id": "da13786f-d022-4c38-83e1-c54a76e0db92",
   "metadata": {},
   "outputs": [],
   "source": []
  },
  {
   "cell_type": "code",
   "execution_count": null,
   "id": "a86cf547-347a-4ddb-a747-756ff8bd76a2",
   "metadata": {},
   "outputs": [],
   "source": []
  }
 ],
 "metadata": {
  "kernelspec": {
   "display_name": "monroe",
   "language": "python",
   "name": "monroe"
  },
  "language_info": {
   "codemirror_mode": {
    "name": "ipython",
    "version": 3
   },
   "file_extension": ".py",
   "mimetype": "text/x-python",
   "name": "python",
   "nbconvert_exporter": "python",
   "pygments_lexer": "ipython3",
   "version": "3.11.12"
  }
 },
 "nbformat": 4,
 "nbformat_minor": 5
}
