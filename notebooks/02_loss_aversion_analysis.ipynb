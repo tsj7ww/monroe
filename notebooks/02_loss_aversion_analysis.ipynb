{
 "cells": [
  {
   "cell_type": "code",
   "execution_count": null,
   "metadata": {
    "vscode": {
     "languageId": "plaintext"
    }
   },
   "outputs": [],
   "source": [
    "%reload_ext autoreload\n",
    "%autoreload 2"
   ]
  },
  {
   "cell_type": "code",
   "execution_count": null,
   "metadata": {
    "vscode": {
     "languageId": "plaintext"
    }
   },
   "outputs": [],
   "source": [
    "import numpy as np\n",
    "import pandas as pd\n",
    "from src.analysis.loss_aversion import LossAversionAnalyzer\n",
    "from src.analysis.statistics import StatisticalTests\n",
    "\n",
    "# Initialize analyzer\n",
    "analyzer = LossAversionAnalyzer(\n",
    "    data_dir='data',\n",
    "    output_dir='results'\n",
    ")\n",
    "\n",
    "# Load processed data\n",
    "event_data = pd.read_parquet('data/processed/exploration_results.parquet')\n",
    "\n",
    "# Run analysis\n",
    "volume_response = analyzer.analyze_volume_response(event_data)\n",
    "price_momentum = analyzer.analyze_price_momentum(event_data)\n",
    "magnitude_effects = analyzer.analyze_magnitude_effects(event_data)\n",
    "\n",
    "# Statistical testing\n",
    "stats = StatisticalTests()\n",
    "gain_events = event_data[event_data['Event_Type'] == 'Gain_Event']\n",
    "loss_events = event_data[event_data['Event_Type'] == 'Loss_Event']\n",
    "\n",
    "volume_stats = stats.compare_means(\n",
    "    gain_events['Abnormal_Volume'].values,\n",
    "    loss_events['Abnormal_Volume'].values\n",
    ")\n",
    "\n",
    "# Save results\n",
    "results = {\n",
    "    'volume_response': volume_response,\n",
    "    'price_momentum': price_momentum,\n",
    "    'magnitude_effects': magnitude_effects,\n",
    "    'statistical_tests': volume_stats\n",
    "}\n",
    "\n",
    "pd.to_pickle(results, 'results/analysis_results.pkl')\n"
   ]
  },
  {
   "cell_type": "code",
   "execution_count": null,
   "metadata": {
    "vscode": {
     "languageId": "plaintext"
    }
   },
   "outputs": [],
   "source": []
  },
  {
   "cell_type": "code",
   "execution_count": null,
   "metadata": {
    "vscode": {
     "languageId": "plaintext"
    }
   },
   "outputs": [],
   "source": []
  },
  {
   "cell_type": "code",
   "execution_count": null,
   "metadata": {
    "vscode": {
     "languageId": "plaintext"
    }
   },
   "outputs": [],
   "source": []
  }
 ],
 "metadata": {
  "language_info": {
   "name": "python"
  }
 },
 "nbformat": 4,
 "nbformat_minor": 2
}
