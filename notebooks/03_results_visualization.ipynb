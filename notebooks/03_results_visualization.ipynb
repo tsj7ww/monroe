{
 "cells": [
  {
   "cell_type": "code",
   "execution_count": null,
   "metadata": {
    "vscode": {
     "languageId": "plaintext"
    }
   },
   "outputs": [],
   "source": [
    "%reload_ext autoreload\n",
    "%autoreload 2"
   ]
  },
  {
   "cell_type": "code",
   "execution_count": null,
   "metadata": {
    "vscode": {
     "languageId": "plaintext"
    }
   },
   "outputs": [],
   "source": [
    "import numpy as np\n",
    "import pandas as pd\n",
    "import plotly.graph_objects as go\n",
    "from src.visualization.plots import LossAversionPlotter\n",
    "\n",
    "# Initialize plotter\n",
    "plotter = LossAversionPlotter(output_dir='results/figures')\n",
    "\n",
    "# Load results\n",
    "event_data = pd.read_parquet('data/processed/exploration_results.parquet')\n",
    "results = pd.read_pickle('results/analysis_results.pkl')\n",
    "\n",
    "# Create main visualizations\n",
    "volume_fig = plotter.plot_volume_response(\n",
    "    event_data,\n",
    "    save=True,\n",
    "    interactive=True\n",
    ")\n",
    "\n",
    "magnitude_fig = plotter.plot_magnitude_effects(\n",
    "    event_data,\n",
    "    save=True\n",
    ")\n",
    "\n",
    "# Create summary dashboard\n",
    "dashboard = plotter.create_summary_dashboard(\n",
    "    results,\n",
    "    save=True\n",
    ")\n",
    "\n",
    "# Display key metrics\n",
    "print(\"Key Findings:\")\n",
    "print(f\"Volume Response Ratio: {results['volume_response']['volume_ratio']:.2f}\")\n",
    "print(f\"Statistical Significance: p-value = {results['statistical_tests']['p_value']:.4f}\")\n",
    "print(f\"Effect Size (Cohen's d): {results['statistical_tests']['cohens_d']:.2f}\")"
   ]
  },
  {
   "cell_type": "code",
   "execution_count": null,
   "metadata": {
    "vscode": {
     "languageId": "plaintext"
    }
   },
   "outputs": [],
   "source": []
  },
  {
   "cell_type": "code",
   "execution_count": null,
   "metadata": {
    "vscode": {
     "languageId": "plaintext"
    }
   },
   "outputs": [],
   "source": []
  },
  {
   "cell_type": "code",
   "execution_count": null,
   "metadata": {
    "vscode": {
     "languageId": "plaintext"
    }
   },
   "outputs": [],
   "source": []
  }
 ],
 "metadata": {
  "language_info": {
   "name": "python"
  }
 },
 "nbformat": 4,
 "nbformat_minor": 2
}
